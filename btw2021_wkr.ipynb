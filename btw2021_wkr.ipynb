{
  "nbformat": 4,
  "nbformat_minor": 0,
  "metadata": {
    "colab": {
      "provenance": [],
      "authorship_tag": "ABX9TyM3YfmzHJWbnrGgqEXF0GDJ",
      "include_colab_link": true
    },
    "kernelspec": {
      "name": "ir",
      "display_name": "R"
    },
    "language_info": {
      "name": "R"
    }
  },
  "cells": [
    {
      "cell_type": "markdown",
      "metadata": {
        "id": "view-in-github",
        "colab_type": "text"
      },
      "source": [
        "<a href=\"https://colab.research.google.com/github/cstecker/student/blob/main/btw2021_wkr.ipynb\" target=\"_parent\"><img src=\"https://colab.research.google.com/assets/colab-badge.svg\" alt=\"Open In Colab\"/></a>"
      ]
    },
    {
      "cell_type": "code",
      "source": [
        "Daten laden"
      ],
      "metadata": {
        "id": "QKN_K745_0tp"
      },
      "execution_count": null,
      "outputs": []
    },
    {
      "cell_type": "markdown",
      "source": [
        "[Linktext](https://)## 1. Set Up"
      ],
      "metadata": {
        "id": "k5T84Ghd-SkX"
      }
    },
    {
      "cell_type": "code",
      "source": [
        "# Daten laden\n",
        "wkr_results2 <- readRDS(\"https://github.com/cstecker/student/blob/main/btw2021_wkr.rds\")\n",
        "\n",
        "# Parteifarben definieren\n",
        "party_colors <- c(\"CDU\" = \"black\", \"CSU\" = \"black\", \"SPD\" = \"#E3000F\", \n",
        "                  \"FDP\" = \"#FFD600\", \"GRÜNE\" = \"#32CD32\", \"DIE LINKE\" = \"deeppink\", \n",
        "                  \"AfD\" = \"blue\")\n",
        "\n"
      ],
      "metadata": {
        "colab": {
          "base_uri": "https://localhost:8080/",
          "height": 185
        },
        "id": "i1BkMXcr-cDt",
        "outputId": "d7120335-5102-44c0-cd8e-7180d30fd4d3"
      },
      "execution_count": null,
      "outputs": [
        {
          "output_type": "stream",
          "name": "stderr",
          "text": [
            "Warning message in gzfile(file, \"rb\"):\n",
            "“cannot open compressed file 'https://github.com/cstecker/student/blob/main/btw2021_wkr.rds', probable reason 'No such file or directory'”\n"
          ]
        },
        {
          "output_type": "error",
          "ename": "ERROR",
          "evalue": "ignored",
          "traceback": [
            "Error in gzfile(file, \"rb\"): cannot open the connection\nTraceback:\n",
            "1. readRDS(\"https://github.com/cstecker/student/blob/main/btw2021_wkr.rds\")",
            "2. gzfile(file, \"rb\")"
          ]
        }
      ]
    }
  ]
}