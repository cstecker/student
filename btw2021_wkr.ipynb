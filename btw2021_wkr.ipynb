{
  "nbformat": 4,
  "nbformat_minor": 0,
  "metadata": {
    "colab": {
      "provenance": [],
      "authorship_tag": "ABX9TyNYEAL89/VJCMgfuW7J7s/m",
      "include_colab_link": true
    },
    "kernelspec": {
      "name": "ir",
      "display_name": "R"
    },
    "language_info": {
      "name": "R"
    }
  },
  "cells": [
    {
      "cell_type": "markdown",
      "metadata": {
        "id": "view-in-github",
        "colab_type": "text"
      },
      "source": [
        "<a href=\"https://colab.research.google.com/github/cstecker/student/blob/main/btw2021_wkr.ipynb\" target=\"_parent\"><img src=\"https://colab.research.google.com/assets/colab-badge.svg\" alt=\"Open In Colab\"/></a>"
      ]
    },
    {
      "cell_type": "code",
      "source": [
        "# Pakete\n",
        "library(tidyverse)"
      ],
      "metadata": {
        "id": "QKN_K745_0tp",
        "outputId": "fe78340b-a60c-42ba-9dab-e775e0b3c62d",
        "colab": {
          "base_uri": "https://localhost:8080/"
        }
      },
      "execution_count": 11,
      "outputs": [
        {
          "output_type": "stream",
          "name": "stderr",
          "text": [
            "Warning message in system(\"timedatectl\", intern = TRUE):\n",
            "“running command 'timedatectl' had status 1”\n",
            "── \u001b[1mAttaching packages\u001b[22m ─────────────────────────────────────── tidyverse 1.3.1 ──\n",
            "\n",
            "\u001b[32m✔\u001b[39m \u001b[34mggplot2\u001b[39m 3.4.0      \u001b[32m✔\u001b[39m \u001b[34mpurrr  \u001b[39m 1.0.1 \n",
            "\u001b[32m✔\u001b[39m \u001b[34mtibble \u001b[39m 3.1.8      \u001b[32m✔\u001b[39m \u001b[34mdplyr  \u001b[39m 1.0.10\n",
            "\u001b[32m✔\u001b[39m \u001b[34mtidyr  \u001b[39m 1.2.1      \u001b[32m✔\u001b[39m \u001b[34mstringr\u001b[39m 1.4.1 \n",
            "\u001b[32m✔\u001b[39m \u001b[34mreadr  \u001b[39m 2.1.3      \u001b[32m✔\u001b[39m \u001b[34mforcats\u001b[39m 0.5.2 \n",
            "\n",
            "── \u001b[1mConflicts\u001b[22m ────────────────────────────────────────── tidyverse_conflicts() ──\n",
            "\u001b[31m✖\u001b[39m \u001b[34mdplyr\u001b[39m::\u001b[32mfilter()\u001b[39m masks \u001b[34mstats\u001b[39m::filter()\n",
            "\u001b[31m✖\u001b[39m \u001b[34mdplyr\u001b[39m::\u001b[32mlag()\u001b[39m    masks \u001b[34mstats\u001b[39m::lag()\n",
            "\n"
          ]
        }
      ]
    },
    {
      "cell_type": "markdown",
      "source": [
        "**Setup**"
      ],
      "metadata": {
        "id": "k5T84Ghd-SkX"
      }
    },
    {
      "cell_type": "code",
      "source": [
        "# Daten laden\n",
        "download.file(\"https://github.com/cstecker/student/blob/main/btw2021_wkr.rds?raw=true\", \"wkr.rds\")\n",
        "\n",
        "wkr_results2 <- readRDS(\"wkr.rds\")\n",
        "\n",
        "\n",
        "\n",
        "# Parteifarben definieren\n",
        "party_colors <- c(\"CDU\" = \"black\", \"CSU\" = \"black\", \"SPD\" = \"#E3000F\", \n",
        "                  \"FDP\" = \"#FFD600\", \"GRÜNE\" = \"#32CD32\", \"DIE LINKE\" = \"deeppink\", \n",
        "                  \"AfD\" = \"blue\")\n",
        "\n"
      ],
      "metadata": {
        "id": "i1BkMXcr-cDt"
      },
      "execution_count": 14,
      "outputs": []
    },
    {
      "cell_type": "markdown",
      "source": [
        "**Daten inspizieren**"
      ],
      "metadata": {
        "id": "1AyXwExNp988"
      }
    },
    {
      "cell_type": "code",
      "source": [
        "# Blick auf den gesamten Datensatz\n",
        "wkr_results2"
      ],
      "metadata": {
        "id": "X9LfvvF0gUn-"
      },
      "execution_count": null,
      "outputs": []
    },
    {
      "cell_type": "code",
      "source": [
        "# Blick auf einzelne Wahlkreise\n",
        "wkr_results2 %>% \n",
        "  filter(wkr_name == \"Darmstadt\") %>% \n",
        "  select(wkr_nr, wkr_name, candidate, party, v1_2021, v2_2021, rank)"
      ],
      "metadata": {
        "id": "WJtz08bJqDG3",
        "outputId": "7b398bba-293f-49b6-9498-cf867c657176",
        "colab": {
          "base_uri": "https://localhost:8080/",
          "height": 286
        }
      },
      "execution_count": 16,
      "outputs": [
        {
          "output_type": "display_data",
          "data": {
            "text/html": [
              "<table class=\"dataframe\">\n",
              "<caption>A grouped_df: 6 × 7</caption>\n",
              "<thead>\n",
              "\t<tr><th scope=col>wkr_nr</th><th scope=col>wkr_name</th><th scope=col>candidate</th><th scope=col>party</th><th scope=col>v1_2021</th><th scope=col>v2_2021</th><th scope=col>rank</th></tr>\n",
              "\t<tr><th scope=col>&lt;int&gt;</th><th scope=col>&lt;chr&gt;</th><th scope=col>&lt;chr&gt;</th><th scope=col>&lt;chr&gt;</th><th scope=col>&lt;dbl&gt;</th><th scope=col>&lt;dbl&gt;</th><th scope=col>&lt;int&gt;</th></tr>\n",
              "</thead>\n",
              "<tbody>\n",
              "\t<tr><td>186</td><td>Darmstadt</td><td>Larem, Andreas        </td><td>SPD      </td><td>27.377261</td><td>26.345253</td><td>1</td></tr>\n",
              "\t<tr><td>186</td><td>Darmstadt</td><td>Wagner, Daniela       </td><td>GRÜNE    </td><td>23.793536</td><td>22.434074</td><td>2</td></tr>\n",
              "\t<tr><td>186</td><td>Darmstadt</td><td>Dr. Mannes, Astrid    </td><td>CDU      </td><td>22.713913</td><td>18.426118</td><td>3</td></tr>\n",
              "\t<tr><td>186</td><td>Darmstadt</td><td>Dr. von Buttlar, Julia</td><td>FDP      </td><td> 9.220504</td><td>11.899822</td><td>4</td></tr>\n",
              "\t<tr><td>186</td><td>Darmstadt</td><td>Ehtemai, Meysam       </td><td>AfD      </td><td> 6.012206</td><td> 6.519879</td><td>5</td></tr>\n",
              "\t<tr><td>186</td><td>Darmstadt</td><td>Turğut-Wenzel, Fırat  </td><td>DIE LINKE</td><td> 5.004987</td><td> 5.755287</td><td>6</td></tr>\n",
              "</tbody>\n",
              "</table>\n"
            ],
            "text/markdown": "\nA grouped_df: 6 × 7\n\n| wkr_nr &lt;int&gt; | wkr_name &lt;chr&gt; | candidate &lt;chr&gt; | party &lt;chr&gt; | v1_2021 &lt;dbl&gt; | v2_2021 &lt;dbl&gt; | rank &lt;int&gt; |\n|---|---|---|---|---|---|---|\n| 186 | Darmstadt | Larem, Andreas         | SPD       | 27.377261 | 26.345253 | 1 |\n| 186 | Darmstadt | Wagner, Daniela        | GRÜNE     | 23.793536 | 22.434074 | 2 |\n| 186 | Darmstadt | Dr. Mannes, Astrid     | CDU       | 22.713913 | 18.426118 | 3 |\n| 186 | Darmstadt | Dr. von Buttlar, Julia | FDP       |  9.220504 | 11.899822 | 4 |\n| 186 | Darmstadt | Ehtemai, Meysam        | AfD       |  6.012206 |  6.519879 | 5 |\n| 186 | Darmstadt | Turğut-Wenzel, Fırat   | DIE LINKE |  5.004987 |  5.755287 | 6 |\n\n",
            "text/latex": "A grouped\\_df: 6 × 7\n\\begin{tabular}{lllllll}\n wkr\\_nr & wkr\\_name & candidate & party & v1\\_2021 & v2\\_2021 & rank\\\\\n <int> & <chr> & <chr> & <chr> & <dbl> & <dbl> & <int>\\\\\n\\hline\n\t 186 & Darmstadt & Larem, Andreas         & SPD       & 27.377261 & 26.345253 & 1\\\\\n\t 186 & Darmstadt & Wagner, Daniela        & GRÜNE     & 23.793536 & 22.434074 & 2\\\\\n\t 186 & Darmstadt & Dr. Mannes, Astrid     & CDU       & 22.713913 & 18.426118 & 3\\\\\n\t 186 & Darmstadt & Dr. von Buttlar, Julia & FDP       &  9.220504 & 11.899822 & 4\\\\\n\t 186 & Darmstadt & Ehtemai, Meysam        & AfD       &  6.012206 &  6.519879 & 5\\\\\n\t 186 & Darmstadt & Turğut-Wenzel, Fırat   & DIE LINKE &  5.004987 &  5.755287 & 6\\\\\n\\end{tabular}\n",
            "text/plain": [
              "  wkr_nr wkr_name  candidate              party     v1_2021   v2_2021   rank\n",
              "1 186    Darmstadt Larem, Andreas         SPD       27.377261 26.345253 1   \n",
              "2 186    Darmstadt Wagner, Daniela        GRÜNE     23.793536 22.434074 2   \n",
              "3 186    Darmstadt Dr. Mannes, Astrid     CDU       22.713913 18.426118 3   \n",
              "4 186    Darmstadt Dr. von Buttlar, Julia FDP        9.220504 11.899822 4   \n",
              "5 186    Darmstadt Ehtemai, Meysam        AfD        6.012206  6.519879 5   \n",
              "6 186    Darmstadt Turğut-Wenzel, Fırat   DIE LINKE  5.004987  5.755287 6   "
            ]
          },
          "metadata": {}
        }
      ]
    },
    {
      "cell_type": "markdown",
      "source": [
        "**Grafische Inspektion**"
      ],
      "metadata": {
        "id": "-4EeK8bnqkHc"
      }
    },
    {
      "cell_type": "code",
      "source": [
        "# Balkendiagramm\n",
        "wkr_results2 %>% \n",
        "  filter(wkr_name == \"Darmstadt\") %>% \n",
        "  select(wkr_nr, wkr_name, candidate, party, v1_2021, v2_2021, rank) %>% \n",
        "  ggplot(aes(x = candidate, y = v1_2021)) +\n",
        "  geom_col() +\n",
        "  coord_flip()"
      ],
      "metadata": {
        "id": "ay-dsPZjqpXE"
      },
      "execution_count": null,
      "outputs": []
    },
    {
      "cell_type": "code",
      "source": [
        "# schöneres Balkendiagramm\n",
        "wkr_results2 %>% \n",
        "  filter(wkr_name == \"Darmstadt\") %>% \n",
        "  select(wkr_nr, wkr_name, candidate, party, v1_2021, v2_2021, rank) %>% \n",
        "  ggplot(aes(x = reorder(candidate, desc(rank)), y = v1_2021, fill = party)) +\n",
        "  geom_col() +\n",
        "  scale_fill_manual(values = party_colors) +\n",
        "  labs(title = \"Erststimmenergebnis im Wahlkreis Darmstadt\", \n",
        "       x = \"\", \n",
        "       y = \"Stimmenanteil in Prozent (%)\") +\n",
        "  theme_minimal() +\n",
        "  coord_flip()\n"
      ],
      "metadata": {
        "id": "B5DagPWBq-qh",
        "outputId": "9990e1d6-bd94-477c-e76f-1aa803ce3113",
        "colab": {
          "base_uri": "https://localhost:8080/",
          "height": 437
        }
      },
      "execution_count": 18,
      "outputs": [
        {
          "output_type": "display_data",
          "data": {
            "text/plain": [
              "plot without title"
            ],
            "image/png": "[encoded data removed]"
          },
          "metadata": {
            "image/png": {
              "width": 420,
              "height": 420
            }
          }
        }
      ]
    },
    {
      "cell_type": "code",
      "source": [
        "\n",
        "# wer sind die Wahlkreisköniginnen und -könige?\n",
        "wkr_results2 %>% \n",
        "  select(wkr_name, wkr_nr, party, candidate, ErstSt = v1_2021, ZweitSt = v2_2021, \n",
        "         partydiff) %>% \n",
        "  arrange(desc(partydiff))"
      ],
      "metadata": {
        "id": "bUylF3SxsBpd"
      },
      "execution_count": null,
      "outputs": []
    },
    {
      "cell_type": "code",
      "source": [
        "# Erststimmenanteil der Wahlkreissieger\n",
        "wkr_results2 %>% \n",
        "  filter(rank == 1) %>% \n",
        "  ggplot(aes(x = party, y = v1_2021, fill = party, col = party, alpha = .3)) +\n",
        "  geom_hline(yintercept = 50) +\n",
        "  geom_boxplot() +\n",
        "  geom_jitter(width = .2) +\n",
        "  scale_fill_manual(\"\", values = party_colors) +\n",
        "  scale_color_manual(\"\", values = party_colors) +\n",
        "  labs(\n",
        "    title = \"Erststimmenanteile der Wahlkreissieger\",\n",
        "    x = \"\"\n",
        "  ) +\n",
        "  guides(fill = FALSE, alpha = FALSE, color = FALSE) +\n",
        "  labs(y = \"\") +\n",
        "  theme_minimal() \n"
      ],
      "metadata": {
        "id": "ETNMNuk_sIeH"
      },
      "execution_count": null,
      "outputs": []
    },
    {
      "cell_type": "code",
      "source": [
        "# Wer wäre für die CSU nicht eingezogen\n",
        "# https://www.bundeswahlleiter.de/service/glossar/u/ueberhangmandate.html\n",
        "wkr_results2 %>% \n",
        "  filter(party == \"CSU\", rank == 1) %>% \n",
        "  arrange(desc(v1_2021)) %>% \n",
        "  select(wkr_nr, wkr_name, candidate, v1_2021) %>% \n",
        "  print(n = 45)"
      ],
      "metadata": {
        "id": "FXe1jHaZsKk3"
      },
      "execution_count": null,
      "outputs": []
    }
  ]
}