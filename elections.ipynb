{
  "nbformat": 4,
  "nbformat_minor": 0,
  "metadata": {
    "colab": {
      "provenance": [],
      "authorship_tag": "ABX9TyNVZoXMb0JfMPxsSXz1yswS",
      "include_colab_link": true
    },
    "kernelspec": {
      "name": "python3",
      "display_name": "Python 3"
    },
    "language_info": {
      "name": "python"
    }
  },
  "cells": [
    {
      "cell_type": "markdown",
      "metadata": {
        "id": "view-in-github",
        "colab_type": "text"
      },
      "source": [
        "<a href=\"https://colab.research.google.com/github/cstecker/student/blob/main/elections.ipynb\" target=\"_parent\"><img src=\"https://colab.research.google.com/assets/colab-badge.svg\" alt=\"Open In Colab\"/></a>"
      ]
    },
    {
      "cell_type": "markdown",
      "source": [
        "**Betrachtung von Bundestags- und Landtagswahlen**"
      ],
      "metadata": {
        "id": "CHQDmkDs4bpG"
      }
    },
    {
      "cell_type": "markdown",
      "source": [
        "Setup"
      ],
      "metadata": {
        "id": "136dFboD4mP0"
      }
    },
    {
      "cell_type": "code",
      "execution_count": null,
      "metadata": {
        "id": "K7PswxAF4ahE"
      },
      "outputs": [],
      "source": [
        "# Pakete laden\n",
        "library(tidyverse)"
      ]
    },
    {
      "cell_type": "code",
      "source": [
        "# Daten laden\n",
        "download.file(\"https://github.com/cstecker/student/blob/main/btw2021_wkr.rds?raw=true\", \"wkr.rds\")\n",
        "\n",
        "wkr_results2 <- readRDS(\"wkr.rds\")\n",
        "\n"
      ],
      "metadata": {
        "id": "l5TRx1Fy4pMc"
      },
      "execution_count": null,
      "outputs": []
    }
  ]
}