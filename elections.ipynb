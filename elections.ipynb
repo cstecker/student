{
  "nbformat": 4,
  "nbformat_minor": 0,
  "metadata": {
    "colab": {
      "provenance": [],
      "authorship_tag": "ABX9TyM5UaS1dNdbosmGG4dHC+J8",
      "include_colab_link": true
    },
    "kernelspec": {
      "name": "ir",
      "display_name": "R"
    },
    "language_info": {
      "name": "R"
    }
  },
  "cells": [
    {
      "cell_type": "markdown",
      "metadata": {
        "id": "view-in-github",
        "colab_type": "text"
      },
      "source": [
        "<a href=\"https://colab.research.google.com/github/cstecker/student/blob/main/elections.ipynb\" target=\"_parent\"><img src=\"https://colab.research.google.com/assets/colab-badge.svg\" alt=\"Open In Colab\"/></a>"
      ]
    },
    {
      "cell_type": "markdown",
      "source": [
        "**Betrachtung von Bundestags- und Landtagswahlen**"
      ],
      "metadata": {
        "id": "awXtKcUsQC2_"
      }
    },
    {
      "cell_type": "code",
      "source": [
        "# Pakete laden\n",
        "library(tidyverse)"
      ],
      "metadata": {
        "colab": {
          "base_uri": "https://localhost:8080/"
        },
        "id": "omRzaa0xQJim",
        "outputId": "e5b71816-7cca-4c47-a1a6-77acb2ec37ae"
      },
      "execution_count": 1,
      "outputs": [
        {
          "output_type": "stream",
          "name": "stderr",
          "text": [
            "Warning message in system(\"timedatectl\", intern = TRUE):\n",
            "“running command 'timedatectl' had status 1”\n",
            "── \u001b[1mAttaching packages\u001b[22m ─────────────────────────────────────── tidyverse 1.3.1 ──\n",
            "\n",
            "\u001b[32m✔\u001b[39m \u001b[34mggplot2\u001b[39m 3.4.0      \u001b[32m✔\u001b[39m \u001b[34mpurrr  \u001b[39m 1.0.1 \n",
            "\u001b[32m✔\u001b[39m \u001b[34mtibble \u001b[39m 3.1.8      \u001b[32m✔\u001b[39m \u001b[34mdplyr  \u001b[39m 1.0.10\n",
            "\u001b[32m✔\u001b[39m \u001b[34mtidyr  \u001b[39m 1.2.1      \u001b[32m✔\u001b[39m \u001b[34mstringr\u001b[39m 1.4.1 \n",
            "\u001b[32m✔\u001b[39m \u001b[34mreadr  \u001b[39m 2.1.3      \u001b[32m✔\u001b[39m \u001b[34mforcats\u001b[39m 0.5.2 \n",
            "\n",
            "── \u001b[1mConflicts\u001b[22m ────────────────────────────────────────── tidyverse_conflicts() ──\n",
            "\u001b[31m✖\u001b[39m \u001b[34mdplyr\u001b[39m::\u001b[32mfilter()\u001b[39m masks \u001b[34mstats\u001b[39m::filter()\n",
            "\u001b[31m✖\u001b[39m \u001b[34mdplyr\u001b[39m::\u001b[32mlag()\u001b[39m    masks \u001b[34mstats\u001b[39m::lag()\n",
            "\n"
          ]
        }
      ]
    },
    {
      "cell_type": "code",
      "source": [
        "# Daten laden\n",
        "download.file(\"https://github.com/cstecker/student/blob/main/elecdates.rds?raw=true\", \"elecdates.rds\")\n",
        "elecdates <- readRDS(\"elecdates.rds\")"
      ],
      "metadata": {
        "id": "B6u5FScwQQaI"
      },
      "execution_count": 3,
      "outputs": []
    },
    {
      "cell_type": "markdown",
      "source": [
        "**Daten betrachten**"
      ],
      "metadata": {
        "id": "ezhvOETdQbR1"
      }
    },
    {
      "cell_type": "code",
      "source": [
        "# Blick auf gesamten Datensatz\n",
        "elecdates"
      ],
      "metadata": {
        "id": "qw3_7D13QdwV"
      },
      "execution_count": null,
      "outputs": []
    },
    {
      "cell_type": "code",
      "source": [
        "# filtern\n",
        "elecdates %>%\n",
        "  filter(land == \"he\")"
      ],
      "metadata": {
        "id": "js_-pV7jRL_h"
      },
      "execution_count": null,
      "outputs": []
    },
    {
      "cell_type": "code",
      "source": [
        "# eine Variable generieren\n",
        "elecdates %>%\n",
        "  mutate(diff = n_parties-enlp)"
      ],
      "metadata": {
        "id": "iaKwt57rQ5Cm"
      },
      "execution_count": null,
      "outputs": []
    },
    {
      "cell_type": "code",
      "source": [
        "# Wahlbeteiligung anschauen (Hessen)\n",
        "elecdates %>% \n",
        "  filter(land == \"he\") %>% \n",
        "  ggplot(aes(x = electiondate, y = L_WB)) +\n",
        "  geom_line() +\n",
        "  geom_point()"
      ],
      "metadata": {
        "id": "o2wWhkJnRVMe"
      },
      "execution_count": null,
      "outputs": []
    },
    {
      "cell_type": "code",
      "source": [],
      "metadata": {
        "id": "zNX4dOswRelb"
      },
      "execution_count": null,
      "outputs": []
    }
  ]
}